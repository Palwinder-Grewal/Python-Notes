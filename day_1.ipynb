{
 "cells": [
  {
   "cell_type": "code",
   "execution_count": 2,
   "id": "21598a14",
   "metadata": {},
   "outputs": [
    {
     "name": "stdout",
     "output_type": "stream",
     "text": [
      "hello all\n"
     ]
    }
   ],
   "source": [
    "print(\"hello all\")    #printing a message"
   ]
  },
  {
   "cell_type": "code",
   "execution_count": 6,
   "id": "bacb1cf4",
   "metadata": {},
   "outputs": [
    {
     "name": "stdout",
     "output_type": "stream",
     "text": [
      "22\n"
     ]
    }
   ],
   "source": [
    "# declaring variable\n",
    "age = 22\n",
    "# here age is varbale name and 22 is the value\n",
    "print(age)"
   ]
  },
  {
   "cell_type": "code",
   "execution_count": 10,
   "id": "55fa70dc",
   "metadata": {},
   "outputs": [
    {
     "name": "stdout",
     "output_type": "stream",
     "text": [
      "Enter your name Palwinder\n",
      "Enter your age 22\n",
      "Palwinder is 22 years old.\n"
     ]
    }
   ],
   "source": [
    "# getting user input\n",
    "name = input(\"Enter your name \")\n",
    "age = input(\"Enter your age \")      #input function stores input as string. age = \"22\" in this case\n",
    "print(name + \" is \" + age + \" years old.\")    # + sign concatenates the strings"
   ]
  },
  {
   "cell_type": "code",
   "execution_count": 24,
   "id": "d86c11c3",
   "metadata": {},
   "outputs": [
    {
     "name": "stdout",
     "output_type": "stream",
     "text": [
      "22 <class 'int'>\n",
      "22 <class 'str'>\n",
      "0\n",
      "False\n"
     ]
    }
   ],
   "source": [
    "# common data types:\n",
    "# int (integer), float (floating point), bool (boolean), str (string)\n",
    "age = 22  # python automatically declares datatype if not mentioned\n",
    "print(age, type(age))   #type function returns datatype of a variable\n",
    "\n",
    "# typecasting\n",
    "age = str(age)       #now age is converted from int to str\n",
    "print(age,type(age))\n",
    "x = 0\n",
    "print(x)\n",
    "x = bool(x)   # while converting int to bool if value is zero then its false else it will give true\n",
    "print(x)"
   ]
  },
  {
   "cell_type": "code",
   "execution_count": 45,
   "id": "7cbcfb9c",
   "metadata": {},
   "outputs": [
    {
     "name": "stdout",
     "output_type": "stream",
     "text": [
      "Learning Python\n",
      " Hii,\n",
      "Palwinder this side\n",
      "L\n",
      "n\n",
      "t\n",
      "Learn\n",
      "LrnP\n",
      "nohtyP gninraeL\n",
      "Learning Python\n"
     ]
    }
   ],
   "source": [
    "# Strings\n",
    "# string can be declared using single quotes ('') or using double quotes (\"\")\n",
    "mytask = \"Learning Python\"\n",
    "print(mytask)\n",
    "message = ''' Hii,\n",
    "Palwinder this side'''\n",
    "print(message)  # triple quotes are used to declare string of multiple lines including linebreaks\n",
    "\n",
    "# accessing the string using index\n",
    "print(mytask[0])  # index of string starts from 0\n",
    "\n",
    "# reverse indexing is also available in python strings\n",
    "# -1 is the index of last character in string example character 'n' in task(variable name) string\n",
    "# and -2 is for second last character and so on...\n",
    "print(mytask[-1])\n",
    "print(mytask[-4])\n",
    "\n",
    "# part of string can be accessed using method called slicing\n",
    "print(mytask[0:5])  #it will return string from index zero upto 4 ( from 0 to <5)\n",
    "print(mytask[0:10:3])  #here 0 is statring index 10 is ending index and 3 is skipping characters like increment by 3 in for loop of c++\n",
    "\n",
    "# reversing string\n",
    "print(mytask[::-1])\n",
    "\n",
    "# NOTE:\n",
    "# all the functions/operations performed above returns new string rether that updating the string stored in variable\n",
    "print(mytask)  #look the string is still unchanged as no new value is assigned"
   ]
  },
  {
   "cell_type": "code",
   "execution_count": 51,
   "id": "f602b748",
   "metadata": {},
   "outputs": [
    {
     "name": "stdout",
     "output_type": "stream",
     "text": [
      "Palwinder is 22 years old.\n"
     ]
    }
   ],
   "source": [
    "# formatted strings\n",
    "age = 22\n",
    "name = 'Palwinder'\n",
    "msg = f\"{name} is {age} years old.\"  # f as prefix and use curly braces to dynamically insert variables or values in the string\n",
    "print(msg)"
   ]
  },
  {
   "cell_type": "code",
   "execution_count": 79,
   "id": "28958b01",
   "metadata": {},
   "outputs": [
    {
     "name": "stdout",
     "output_type": "stream",
     "text": [
      "22\n",
      "LEARNING PYTHON IS FUN\n",
      "learning python is fun\n",
      "Learning python is fun\n",
      "Learning Python Is Fun\n",
      "9\n",
      "9\n",
      "-1\n",
      "learning Java is fun\n",
      "True\n"
     ]
    }
   ],
   "source": [
    "# string methods\n",
    "\n",
    "msg = 'learning Python is fun'\n",
    "print(len(msg))   # returns the length of string (number of characters including spaces)\n",
    "print(msg.upper())  # converts the string to all upper case characters\n",
    "print(msg.lower())  # converts to lower case\n",
    "print(msg.capitalize()) # captitalize the first character of the string\n",
    "print(msg.title()) # Make the first letter in each word upper case\n",
    "print(msg.find('P')) # returns index of first occurence of given character\n",
    "print(msg.find('Python')) # sub string can be passed too. It will return index where the string starts\n",
    "print(msg.find('xyz'))  # if returns -1 it means given character or substring is not present in the string\n",
    "print(msg.replace('Python', 'Java')) # it replaces the character/string in first parameter with value given in second parameter\n",
    "# in operator returns boolean value whether the given value is present in variable(string in our case)\n",
    "print('Python' in msg)\n",
    "# NOTE: all those methods are case sensitive too so 'Python' and 'python' are different"
   ]
  },
  {
   "cell_type": "code",
   "execution_count": 88,
   "id": "b7b3d107",
   "metadata": {},
   "outputs": [
    {
     "name": "stdout",
     "output_type": "stream",
     "text": [
      "13\n",
      "7\n",
      "30\n",
      "3.3333333333333335\n",
      "1000\n",
      "3\n",
      "1\n",
      "15\n",
      "10\n",
      "50\n",
      "10.0\n"
     ]
    }
   ],
   "source": [
    "# arithmetic operators\n",
    "\n",
    "print(10 + 3)  # adds\n",
    "print(10 - 3)  # subtracts\n",
    "print(10 * 3)  # multiplies\n",
    "print(10 / 3)  # divides\n",
    "print(10 ** 3) # Exponentiation (10 ** 3 is same as 10 * 10 * 10)\n",
    "print(10 // 3) # floor division. It rounds the result down to the nearest whole number\n",
    "print(10 % 3)  # Modulus operator. It returns the remainder by diving two numbers\n",
    "\n",
    "# augmented assignment operators\n",
    "# instead of a = a + b we can use a += b\n",
    "a = 10\n",
    "a += 5\n",
    "print(a)\n",
    "a -= 5\n",
    "print(a)\n",
    "a *= 5\n",
    "print(a)\n",
    "a /=5\n",
    "print(a)\n",
    "# similarly can be done with other arithmetic operators like a **= 5, a //= 5, a %= 5"
   ]
  },
  {
   "cell_type": "code",
   "execution_count": 91,
   "id": "cb7dfb63",
   "metadata": {},
   "outputs": [
    {
     "name": "stdout",
     "output_type": "stream",
     "text": [
      "20\n",
      "30\n"
     ]
    }
   ],
   "source": [
    "# operator precedence\n",
    "a = 10 + 5 * 2  #it follows the precedence same as in mathematics\n",
    "print(a)\n",
    "a = (10 + 5) * 2  # to manipulate precedence we can use brackets as it solves brackets first\n",
    "print(a)"
   ]
  },
  {
   "cell_type": "code",
   "execution_count": 96,
   "id": "af451ad4",
   "metadata": {},
   "outputs": [
    {
     "name": "stdout",
     "output_type": "stream",
     "text": [
      "6\n",
      "5.8\n"
     ]
    }
   ],
   "source": [
    "# math functions\n",
    "x = 5.8\n",
    "print(round(x)) # rounds off the value to the nearest whole number\n",
    "x = -5.8\n",
    "print(abs(x))  # returns absolute value. Converts negative number into positive number"
   ]
  },
  {
   "cell_type": "code",
   "execution_count": 107,
   "id": "a65586c8",
   "metadata": {},
   "outputs": [
    {
     "name": "stdout",
     "output_type": "stream",
     "text": [
      "True\n",
      "False\n",
      "True\n",
      "True\n",
      "False\n",
      "True\n"
     ]
    }
   ],
   "source": [
    "# comparision operators\n",
    "# >, <, >=, <=, !=, ==\n",
    "print(10 < 50) # returns true if left operand is smaller than right operand otherwise it returns false\n",
    "print(50 > 50) # returns true only if left operand is greater than righ otherwise returns false\n",
    "print(50 >= 50) # returns true if left operand is greater than or equal to righ operand otherwise false\n",
    "print(50 <= 50) # returns true if right operand is smaller than right or if equal to right otherwise false\n",
    "print(50 != 50) # returns true if left and right operands are not equals to each other\n",
    "print(50 == 50) # returns true only if both the operands are equal to each other"
   ]
  },
  {
   "cell_type": "code",
   "execution_count": 131,
   "id": "c5fcaa48",
   "metadata": {},
   "outputs": [
    {
     "name": "stdout",
     "output_type": "stream",
     "text": [
      "Enter your name Palwinder Singh Grewal\n",
      "Name has been accepted\n"
     ]
    }
   ],
   "source": [
    "# exercise\n",
    "# if name is less than 3 characters or having more than 50 characters dont accept\n",
    "# otherwise accept it\n",
    "\n",
    "name = input(\"Enter your name \")\n",
    "if len(name) < 3:\n",
    "    print(\"Name not accepted as it is too short!\")\n",
    "elif len(name) > 50:\n",
    "    print(\"Name not accepted as it is too long!\")\n",
    "else:\n",
    "    print(\"Name has been accepted\")"
   ]
  },
  {
   "cell_type": "code",
   "execution_count": 8,
   "id": "eea429bc",
   "metadata": {},
   "outputs": [
    {
     "name": "stdout",
     "output_type": "stream",
     "text": [
      "Enter your weight 182\n",
      "Enter k for kilogram and p for pound p\n",
      "weight in kilograms is 83\n"
     ]
    }
   ],
   "source": [
    "# exercise\n",
    "# convert weight from pound to kilogram if in pounds\n",
    "# and from kilogram to pounds if given in kilograms\n",
    "\n",
    "weight = int(input(\"Enter your weight \"))\n",
    "kilo_or_pound = input(\"Enter k for kilogram and p for pound \")\n",
    "if kilo_or_pound.upper() == 'K':\n",
    "    converted = weight * 2.20462\n",
    "    print(f\"weight in pound is {round(converted)}\")\n",
    "elif kilo_or_pound.upper() == 'P':\n",
    "    converted = weight / 2.20462\n",
    "    print(f\"weight in kilograms is {round(converted)}\")\n",
    "else:\n",
    "    print(\"Enter correct input!\")"
   ]
  },
  {
   "cell_type": "code",
   "execution_count": 111,
   "id": "825e9ae0",
   "metadata": {},
   "outputs": [
    {
     "name": "stdout",
     "output_type": "stream",
     "text": [
      "True\n",
      "False\n",
      "True\n",
      "True\n",
      "False\n",
      "False\n",
      "True\n"
     ]
    }
   ],
   "source": [
    "# logical operators\n",
    "# and or not are three logical operators in python\n",
    "a = True\n",
    "b = False\n",
    "print(a and a) # and operator returns true only if both condition or values are true\n",
    "print(a and b)\n",
    "print(a or a) # or operator returns false only if both of the values are false\n",
    "print(a or b)\n",
    "print(b or b)\n",
    "print(not a) # not operator works on single operand. It inverse the value.( true to false. false to true)\n",
    "print(not b)"
   ]
  },
  {
   "cell_type": "code",
   "execution_count": 115,
   "id": "571322a1",
   "metadata": {},
   "outputs": [
    {
     "name": "stdout",
     "output_type": "stream",
     "text": [
      "Enter temprature10\n",
      "it's a lovely day\n"
     ]
    }
   ],
   "source": [
    "# conditional statements\n",
    "# if statements executed its following block of code only if the condition is true\n",
    "\n",
    "temprature = int(input(\"Enter temprature\"))\n",
    "if temprature > 30:\n",
    "    print(\"it's a hot day, stay hydrated\")\n",
    "elif temprature < 10: # if the preceding if statement is false then elif condition will be tested and executed if condition is true\n",
    "    print(\"it's too  cold there wear warm clothes\")\n",
    "else:  # if none of upper condtional block(s) executed the else block will be executed then\n",
    "    print(\"it's a lovely day\")"
   ]
  },
  {
   "cell_type": "code",
   "execution_count": 121,
   "id": "0442a003",
   "metadata": {},
   "outputs": [
    {
     "name": "stdout",
     "output_type": "stream",
     "text": [
      " down payment for house is 100000.0\n"
     ]
    }
   ],
   "source": [
    "# execrcise\n",
    "# Price of a house is $1M.\n",
    "# If buyer has good credit\n",
    "#    they need to put down 10%\n",
    "# otherwise\n",
    "#    they need to put down 20%\n",
    "# print down the payment\n",
    "price = 1000000    # 1 million\n",
    "good_credit = True\n",
    "if good_credit:\n",
    "    down_payment = 0.1 * price\n",
    "else:\n",
    "    down_payment = 0.2 * price\n",
    "print(f\" down payment for house is {down_payment}\")"
   ]
  },
  {
   "cell_type": "code",
   "execution_count": 127,
   "id": "8bfaa064",
   "metadata": {},
   "outputs": [
    {
     "name": "stdout",
     "output_type": "stream",
     "text": [
      "You are eligible for loan service\n",
      "Loan request rejected\n"
     ]
    }
   ],
   "source": [
    "# exercise\n",
    "# if applicant has high income and good credit\n",
    "#    eligible for loan\n",
    "high_income = True\n",
    "good_credit = True\n",
    "criminal_record = True\n",
    "if high_income and good_credit:\n",
    "    print(\"You are eligible for loan service\")\n",
    "else:\n",
    "    print(\"Sorry! you are not eligible for the loan service\")\n",
    "\n",
    "#approve loan if having good credit and not having any criminal record\n",
    "    \n",
    "    \n",
    "if good_credit and not criminal_record:\n",
    "    print(\"Loan approved\")\n",
    "else:\n",
    "    print(\"Loan request rejected\")"
   ]
  }
 ],
 "metadata": {
  "kernelspec": {
   "display_name": "Python 3 (ipykernel)",
   "language": "python",
   "name": "python3"
  },
  "language_info": {
   "codemirror_mode": {
    "name": "ipython",
    "version": 3
   },
   "file_extension": ".py",
   "mimetype": "text/x-python",
   "name": "python",
   "nbconvert_exporter": "python",
   "pygments_lexer": "ipython3",
   "version": "3.11.1"
  }
 },
 "nbformat": 4,
 "nbformat_minor": 5
}
