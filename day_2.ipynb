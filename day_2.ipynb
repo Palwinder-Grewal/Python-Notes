{
 "cells": [
  {
   "cell_type": "code",
   "execution_count": 3,
   "id": "89977b83",
   "metadata": {},
   "outputs": [
    {
     "name": "stdout",
     "output_type": "stream",
     "text": [
      "Enter number 5\n",
      "1\n",
      "2\n",
      "3\n",
      "4\n",
      "5\n"
     ]
    }
   ],
   "source": [
    "# while loops\n",
    "\n",
    "# while loops checks the contion if true then its following block of code will be executed\n",
    "# after executing whole block it checks condition again and executes if true and repeats till the condtion is true\n",
    "\n",
    "# we need to be careful while using the while loops as we can slip into an infinite loops\n",
    "# for example:\n",
    "# while True:\n",
    "#     print('text')\n",
    "# the above code will be keep on printing 'text' infinite time\n",
    "\n",
    "# code to print numbers from 1 to n\n",
    "i = 1\n",
    "num = int(input(\"Enter number \"))\n",
    "while i <= num:\n",
    "    print(i)\n",
    "    i += 1"
   ]
  },
  {
   "cell_type": "code",
   "execution_count": 9,
   "id": "18ab5cf7",
   "metadata": {},
   "outputs": [
    {
     "name": "stdout",
     "output_type": "stream",
     "text": [
      "Guess number: 1\n",
      "Guess number: 2\n",
      "Guess number: 5\n",
      "You won\n"
     ]
    }
   ],
   "source": [
    "# exercise\n",
    "\n",
    "# Number Guessing game with upto three tries\n",
    "\n",
    "num = 5\n",
    "tries = 3\n",
    "while tries > 0:\n",
    "    guess = int(input('Guess number: '))\n",
    "    tries -= 1\n",
    "    if guess == num:\n",
    "        print('You won')\n",
    "        break   # break statement exits the control from while loop\n",
    "else:    # else part executed if the while loop executed completely without triggering break statement\n",
    "    print('You lost')"
   ]
  },
  {
   "cell_type": "code",
   "execution_count": 20,
   "id": "793c1db7",
   "metadata": {},
   "outputs": [
    {
     "name": "stdout",
     "output_type": "stream",
     "text": [
      "start - to start car \n",
      " stop - to stop the car \n",
      " quit - to quit the game\n",
      "stop\n",
      "car already stopped\n",
      "start\n",
      "car started\n",
      "Start\n",
      "car already started\n",
      "stop\n",
      "car stopped\n",
      "stop\n",
      "car already stopped\n",
      "quit\n"
     ]
    }
   ],
   "source": [
    "# exercise  car game\n",
    "\n",
    "print('start - to start car \\n stop - to stop the car \\n quit - to quit the game')\n",
    "response = str(None)\n",
    "car_started = False\n",
    "while response.lower() != 'quit':\n",
    "    response = str(input())\n",
    "    if response.lower() == 'start':\n",
    "        if car_started:\n",
    "            print('car already started')\n",
    "        else:\n",
    "            print('car started')\n",
    "            car_started = True\n",
    "    elif response.lower() == 'stop':\n",
    "        if not car_started:\n",
    "            print('car already stopped')\n",
    "        else:\n",
    "            print('car stopped')\n",
    "            car_started = False\n",
    "    elif response.lower() == 'quit':\n",
    "        break\n",
    "    else:\n",
    "        print(\"I don't understand that...\")"
   ]
  },
  {
   "cell_type": "code",
   "execution_count": 96,
   "id": "9e69d355",
   "metadata": {},
   "outputs": [
    {
     "name": "stdout",
     "output_type": "stream",
     "text": [
      "P\n",
      "y\n",
      "t\n",
      "h\n",
      "o\n",
      "n\n",
      "abc\n",
      "def\n",
      "ghi\n",
      "0\n",
      "1\n",
      "2\n",
      "3\n",
      "4\n",
      "\n",
      "\n",
      "5\n",
      "6\n",
      "7\n",
      "8\n",
      "9\n",
      "\n",
      "\n",
      "5\n",
      "7\n",
      "9\n"
     ]
    }
   ],
   "source": [
    "# for loops\n",
    "\n",
    "for i in 'Python':  # it iterates string character by character\n",
    "    print(i)\n",
    "\n",
    "for i in ['abc', 'def', 'ghi']:  # it iterates list item by item\n",
    "    print(i)\n",
    "\n",
    "for i in range(5):  # range function gives a range of numbers. it will give numbers 0 to 4 in our case\n",
    "    print(i)\n",
    "print('\\n')\n",
    "for i in range(5, 10): # in this it will start from 5 and returns number upto 9\n",
    "    print(i)\n",
    "print('\\n')\n",
    "for i in range(5, 10, 2): # in this 2 is skipping step, it skips the number ie increments by 2 ( if not mentioned it increments by 1)\n",
    "    print(i)"
   ]
  },
  {
   "cell_type": "code",
   "execution_count": 97,
   "id": "ad92fd2d",
   "metadata": {},
   "outputs": [
    {
     "name": "stdout",
     "output_type": "stream",
     "text": [
      "total is 60\n"
     ]
    }
   ],
   "source": [
    "# exercise\n",
    "# find sum of numbers given in the list\n",
    "\n",
    "price = [10, 20, 30]\n",
    "total = 0\n",
    "for i in price:\n",
    "    total += i\n",
    "print(f'total is {total}')"
   ]
  },
  {
   "cell_type": "code",
   "execution_count": 2,
   "id": "e179c25a",
   "metadata": {},
   "outputs": [
    {
     "name": "stdout",
     "output_type": "stream",
     "text": [
      "\n",
      "xxxxx\n",
      "xx\n",
      "xxxxx\n",
      "xx\n",
      "xx"
     ]
    }
   ],
   "source": [
    "# challenge by mosh\n",
    "# create F pattern from the  given list [5, 2, 5, 2, 2] using nested loops\n",
    "# my solution\n",
    "\n",
    "pattern = [5, 2, 5, 2, 2]\n",
    "for i in pattern:\n",
    "    print()\n",
    "    for j in range(i):\n",
    "        print('x',end='')"
   ]
  },
  {
   "cell_type": "code",
   "execution_count": 13,
   "id": "3291916d",
   "metadata": {},
   "outputs": [
    {
     "name": "stdout",
     "output_type": "stream",
     "text": [
      "['Abhishek', 'Lovepreet', 'Kanwer', 'Palwinder']\n",
      "Abhishek\n",
      "Lovepreet\n",
      "Kanwer\n",
      "Palwinder\n",
      "Abhishek Palwinder\n",
      "['Lovepreet', 'Kanwer']\n",
      "['Lovepreet', 'Kanwer', 'Palwinder']\n",
      "['Abhishek', 'Lovepreet', 'Kanwer']\n",
      "['Python', 2023, True, 'Dept. of computer science', 5.56]\n"
     ]
    }
   ],
   "source": [
    "# list\n",
    "\n",
    "# lists are definded using square brackets\n",
    "names = ['Abhishek', 'Lovepreet', 'Kanwer', 'Palwinder']\n",
    "print(names)  # prints list as it is defined\n",
    "for i in names:\n",
    "    print(i)  # used to print list element by element\n",
    "    \n",
    "# accesing elemets in list\n",
    "print(names[0],names[-1]) # index of elements starts from 0 then 1 and so on. same as strings last element can be accessed by -1 index and second last using -2 and so on.\n",
    "# slicing can also be done in lists just like we do in strings.in strings every character has an index but in lists indexing is done item by item in list.\n",
    "print(names[1:3])\n",
    "print(names[1:])\n",
    "print(names[:3])\n",
    "\n",
    "# list is collection of homogeneous datatypes. Means they can store values/variables of different datatypes.\n",
    "mylist = ['Python', 2023, True, 'Dept. of computer science', 5.56]\n",
    "print(mylist)"
   ]
  },
  {
   "cell_type": "code",
   "execution_count": 18,
   "id": "57f65ab3",
   "metadata": {},
   "outputs": [
    {
     "name": "stdout",
     "output_type": "stream",
     "text": [
      "Largest number in the list is 500\n"
     ]
    }
   ],
   "source": [
    "# exercise\n",
    "\n",
    "# write a program to find largest number in list\n",
    "\n",
    "numbers = [10, 12, 100, 3, 200, 500, 0, -5]\n",
    "largest_number = numbers[0]\n",
    "for i in numbers:\n",
    "    if i > largest_number:\n",
    "        largest_number = i\n",
    "    else:\n",
    "        continue\n",
    "print(f\"Largest number in the list is {largest_number}\")"
   ]
  },
  {
   "cell_type": "code",
   "execution_count": 31,
   "id": "7c8eb15d",
   "metadata": {},
   "outputs": [
    {
     "name": "stdout",
     "output_type": "stream",
     "text": [
      "[[1, 2, 3], [4, 5, 6], [7, 8, 9]]\n",
      "[1, 2, 3]\n",
      "2\n",
      "6\n",
      "accesing by loop: \n",
      "1\n",
      "2\n",
      "3\n",
      "4\n",
      "5\n",
      "6\n",
      "7\n",
      "8\n",
      "9\n"
     ]
    }
   ],
   "source": [
    "# 2d lists\n",
    "\n",
    "# 2d list can be used to represent matrix\n",
    "\n",
    "matrix = [ [1, 2, 3], [4, 5, 6], [7, 8, 9] ]  # it will represent:  1 2 3\n",
    "                                                              #     4 5 6\n",
    "                                                              #     7 8 9\n",
    "print(matrix)\n",
    "print(matrix[0])  # this will return frist inner list in list 'matrix'\n",
    "print(matrix[0][1])  # in this it accesses inner list indexed 0 ([1, 2, 3]) and 1 accesses its elements (2 in our case)\n",
    "print(matrix[1][2])\n",
    "\n",
    "print('accesing by loop: ')\n",
    "# accesing elements using loop\n",
    "\n",
    "for i in matrix:  # i accesses inner list like [1, 2, 3]\n",
    "    for j in i:   # j accesses element of inner list accessed by i like 1 2 and 3\n",
    "        print(j)"
   ]
  },
  {
   "cell_type": "code",
   "execution_count": 62,
   "id": "22d58c94",
   "metadata": {},
   "outputs": [
    {
     "name": "stdout",
     "output_type": "stream",
     "text": [
      "[10, 20, 20, 5, 20, 2, 20, 50]\n",
      "[10, 20, 99, 20, 5, 20, 2, 20, 50]\n",
      "[10, 99, 20, 5, 20, 2, 20, 50]\n",
      "[10, 99, 20, 5, 20, 2, 20]\n",
      "[20, 2, 20, 5, 20, 99, 10]\n",
      "[2, 5, 10, 20, 20, 20, 99]\n",
      "2\n",
      "3\n",
      "[2, 5, 10, 20, 20, 20, 99, 2, 3, 5, 7, 1]\n",
      "[]\n"
     ]
    }
   ],
   "source": [
    "# methods in list\n",
    "mylist = [10, 20, 20, 5, 20, 2, 20]\n",
    "mylist.append(50) # this will add element in the end of list\n",
    "print(mylist)\n",
    "mylist.insert(2,99)  # this is used to add element at desired index\n",
    "print(mylist)\n",
    "mylist.remove(20)  # this will remove the value given in parameter at first occurence\n",
    "print(mylist)\n",
    "mylist.pop()  # this will return last element from list\n",
    "print(mylist)\n",
    "mylist.reverse()  # to reverse list\n",
    "print(mylist)\n",
    "mylist.sort()  # to sort the list\n",
    "print(mylist)\n",
    "print(mylist.index(10))  # returns index of an item\n",
    "print(mylist.count(20))  # returns occurence of item in list\n",
    "list2 = [2, 3, 5, 7, 1]\n",
    "mylist.extend(list2)  # adds items of another iterable in the list at the end\n",
    "print(mylist)\n",
    "mylist.clear()  # remove all elements/items from the list\n",
    "print(mylist)"
   ]
  },
  {
   "cell_type": "code",
   "execution_count": 63,
   "id": "a1c5d002",
   "metadata": {},
   "outputs": [
    {
     "name": "stdout",
     "output_type": "stream",
     "text": [
      "[10, 20, 99, 2, 3, 5, 7, 1]\n"
     ]
    }
   ],
   "source": [
    "# exercise\n",
    "# remove all duplicates in a list\n",
    "\n",
    "mylist = [2, 5, 10, 20, 20, 20, 99, 2, 3, 5, 7, 1]\n",
    "for i in mylist:\n",
    "    while mylist.count(i) != 1:\n",
    "        mylist.remove(i)\n",
    "print(mylist)\n",
    "\n",
    "# I used my own logic in this"
   ]
  },
  {
   "cell_type": "code",
   "execution_count": 64,
   "id": "4b0d93fb",
   "metadata": {},
   "outputs": [
    {
     "name": "stdout",
     "output_type": "stream",
     "text": [
      "{1, 2, 99, 3, 5, 7, 10, 20}\n"
     ]
    }
   ],
   "source": [
    "# exercise\n",
    "# remove all duplicates in a list\n",
    "\n",
    "\n",
    "# my easy solution\n",
    "\n",
    "mylist = [2, 5, 10, 20, 20, 20, 99, 2, 3, 5, 7, 1]\n",
    "myset = set(mylist)  # set automatically removes duplicate values\n",
    "mylist = myset\n",
    "print(mylist)"
   ]
  },
  {
   "cell_type": "code",
   "execution_count": 66,
   "id": "ae05453f",
   "metadata": {},
   "outputs": [
    {
     "name": "stdout",
     "output_type": "stream",
     "text": [
      "[2, 5, 10, 20, 99, 3, 7, 1]\n"
     ]
    }
   ],
   "source": [
    "# exercise\n",
    "# remove all duplicates in a list\n",
    "\n",
    "#solution by mosh\n",
    "mylist = [2, 5, 10, 20, 20, 20, 99, 2, 3, 5, 7, 1]\n",
    "uniques = []\n",
    "for i in mylist:\n",
    "    if i not in uniques:\n",
    "        uniques.append(i)\n",
    "print(uniques)"
   ]
  },
  {
   "cell_type": "code",
   "execution_count": 79,
   "id": "c30bda3e",
   "metadata": {},
   "outputs": [
    {
     "name": "stdout",
     "output_type": "stream",
     "text": [
      "(2, 4, 6, 8, 2, 4, 2)\n",
      "3\n",
      "2\n",
      "2\n",
      "4 6\n"
     ]
    }
   ],
   "source": [
    "# tuples\n",
    "# tuples are same as list but they are immutable. means once tuple defined it elemenets cant be removed or changed\n",
    "\n",
    "# these are defined using round brackets\n",
    "\n",
    "mytuple = (2, 4, 6, 8 , 2, 4, 2)\n",
    "print(mytuple)\n",
    "\n",
    "# there are only two methods in tuples\n",
    "print(mytuple.count(2))  # returns the occurence of item\n",
    "print(mytuple.index(6))  # returns the index of item at first occurence\n",
    "\n",
    "tuple2 = (2, 4, 6)   #its called unpacking can also be done in lists\n",
    "x, y, z = tuple2\n",
    "print(x)\n",
    "print(y, z)"
   ]
  },
  {
   "cell_type": "code",
   "execution_count": 6,
   "id": "69562ea3",
   "metadata": {},
   "outputs": [
    {
     "name": "stdout",
     "output_type": "stream",
     "text": [
      "{'name': 'Palwinder', 'age': 22, 'height': 6.1, 'is_student': True}\n",
      "Palwinder\n",
      "Palwinder\n",
      "{'name': 'Palwinder', 'age': 22, 'height': 6.1, 'is_student': True, 'weight': 82}\n",
      "{'name': 'Palwinder', 'age': 22, 'height': 6.1, 'is_student': True, 'weight': 80}\n"
     ]
    }
   ],
   "source": [
    "# dictionaries\n",
    "# dictionaries works as lists but here mapping is done to elements using key values\n",
    "\n",
    "person = {'name': 'Palwinder', 'age': 22, 'height': 6.1, 'is_student': True}  # here 'name' is key and 'Palwinder' is value\n",
    "print(person)\n",
    "# note: no duplicate key values allowed, and kay values are case sensitive\n",
    "print(person['name'])  # accesing value using key\n",
    "print(person.get('name'))  # accessing key value using get method, get methods give None value if wrong key is enter instead of throwing an error.\n",
    "person['weight'] = 82  # adding element in dictionary, key values can be updated using this\n",
    "print(person)\n",
    "person['weight'] = 80  # updating value by accessing using key\n",
    "print(person)"
   ]
  },
  {
   "cell_type": "code",
   "execution_count": 3,
   "id": "22b117c0",
   "metadata": {},
   "outputs": [
    {
     "name": "stdout",
     "output_type": "stream",
     "text": [
      "Enter number 123 45\n",
      "one two three   four five "
     ]
    }
   ],
   "source": [
    "# exercise\n",
    "# input phone number and convert digits into words\n",
    "# like 123 to one two three\n",
    "\n",
    "# my solution\n",
    "\n",
    "words = {'0' : 'zero', '1' : 'one', '2' : 'two', '3' : 'three', '4' : 'four', '5' : 'five', '6' : 'six', '7' : 'seven', '8' : 'eight', '9' : 'nine'}\n",
    "phone = input('Enter number ')\n",
    "for i in phone:\n",
    "    print(words.get(i, i), end=' ')"
   ]
  },
  {
   "cell_type": "code",
   "execution_count": 5,
   "id": "7120040b",
   "metadata": {},
   "outputs": [
    {
     "name": "stdout",
     "output_type": "stream",
     "text": [
      "Enter message: happy face :) and a sad face :(\n",
      "happy face 😊\n",
      "and a sad face 😔\n"
     ]
    }
   ],
   "source": [
    "# exercise\n",
    "\n",
    "message = input(\"Enter message: \")\n",
    "emoji = {':)': '😊', ':(': '😔'}\n",
    "words = message.split(' ')\n",
    "for i in words:\n",
    "    if i == ':)':\n",
    "        print(emoji.get(':)'))\n",
    "    elif i == ':(':\n",
    "        print(emoji.get(':('))\n",
    "    else:\n",
    "        print(i, end=' ')\n",
    "    #print(emoji.get(words, words))"
   ]
  },
  {
   "cell_type": "code",
   "execution_count": 13,
   "id": "4a9d5a2f",
   "metadata": {},
   "outputs": [
    {
     "name": "stdout",
     "output_type": "stream",
     "text": [
      "Enter message: happy :) sad :(\n",
      "happy 😊 sad 😔 "
     ]
    }
   ],
   "source": [
    "# exercise\n",
    "\n",
    "message = input(\"Enter message: \")\n",
    "emoji = {':)': '😊', ':(': '😔'}\n",
    "words = message.split(' ')\n",
    "for i in words:\n",
    "    print(emoji.get(i, i) , end = \" \")"
   ]
  }
 ],
 "metadata": {
  "kernelspec": {
   "display_name": "Python 3 (ipykernel)",
   "language": "python",
   "name": "python3"
  },
  "language_info": {
   "codemirror_mode": {
    "name": "ipython",
    "version": 3
   },
   "file_extension": ".py",
   "mimetype": "text/x-python",
   "name": "python",
   "nbconvert_exporter": "python",
   "pygments_lexer": "ipython3",
   "version": "3.11.1"
  }
 },
 "nbformat": 4,
 "nbformat_minor": 5
}
