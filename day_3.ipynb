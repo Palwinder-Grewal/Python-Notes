{
 "cells": [
  {
   "cell_type": "code",
   "execution_count": 74,
   "id": "4e1ce4e0",
   "metadata": {},
   "outputs": [
    {
     "name": "stdout",
     "output_type": "stream",
     "text": [
      "name\n",
      "age\n",
      "phone\n",
      "{'name': 'Palwinder', 'age': 22, 'phone': '7009870115'}\n"
     ]
    }
   ],
   "source": [
    "# for looping a dictionary\n",
    "\n",
    "myDict = {'name': 'Palwinder Grewal', 'age': 22, 'phone': '7009870115', 'name': 'Palwinder'}\n",
    "for i in myDict:\n",
    "    print(i)\n",
    "print(myDict)"
   ]
  },
  {
   "cell_type": "code",
   "execution_count": 109,
   "id": "32646286",
   "metadata": {},
   "outputs": [
    {
     "name": "stdout",
     "output_type": "stream",
     "text": [
      "{'name': 'Palwinder', 'age': 22, 'phone': '7009870115'}\n",
      "dict_keys(['name', 'age', 'phone'])\n",
      "dict_values(['Palwinder', 22, '7009870115'])\n",
      "{'name': 'Palwinder', 'age': 22, 'phone': '7009870115', 'weight': '82'}\n",
      "{'name': 'Palwinder', 'age': 22, 'phone': '7009870115'}\n",
      "{1: 99, 2: 99, 3: 99, 4: 99, 5: 99}\n",
      "{1: 99, 2: 99, 3: 99, 4: 99}\n",
      "{1: 99, 2: 99, 3: 99}\n",
      "22\n",
      "15-JAN-2001\n",
      "{'name': 'Palwinder', 'age': 22, 'phone': '7009870115', 'weight': '82', 'DOB': '15-JAN-2001'}\n",
      "{'name': 'Palwinder', 'age': 22, 'phone': '7009870115', 'weight': 80, 'DOB': '15-JAN-2001', 'weight_in_pounds': 180.72}\n",
      "{}\n"
     ]
    }
   ],
   "source": [
    "# dictionary methods\n",
    "\n",
    "myDict = {'name': 'Palwinder Grewal', 'age': 22, 'phone': '7009870115', 'name': 'Palwinder'}\n",
    "\n",
    "print(myDict) # prints the whole dictionaries along with keys and values\n",
    "\n",
    "print(myDict.keys())  # prints the keys defined in dictionary\n",
    "\n",
    "print(myDict.values())  # prints the values present in the dictionary\n",
    "\n",
    "copied = myDict.copy()  # returns the copy of dictionary\n",
    "myDict['weight'] = '82'  # adding another element to check if it affects the copied variable\n",
    "print(myDict)\n",
    "print(copied)  # Changes wont affect in the copied variable\n",
    "\n",
    "keys = [1, 2, 3, 4, 5]\n",
    "values = 99\n",
    "new_dict = dict.fromkeys(keys, values)  # fromkeys method reutrns a dictionary with specified keys and the specified value\n",
    "                                        # if value parameter not provided then it will assign None to all the keys\n",
    "print(new_dict)\n",
    "\n",
    "new_dict.pop(5)   # pop removes the item from the dictionary (need to pass the key name as argument) also returns the popped item\n",
    "#  if wrong key value (which is not present in the dictionary) is passed then it will throw error named 'KeyError'\n",
    "print(new_dict)\n",
    "\n",
    "new_dict.popitem()  # removes the last inserted item from the  dictionary and returns the pop item also\n",
    "print(new_dict)\n",
    "\n",
    "print(myDict.setdefault('age', 40))  #  returns the value of key if key already specified\n",
    "print(myDict.setdefault('DOB', '15-JAN-2001')) # and if key is not defined then inserts the key and specified value\n",
    "print(myDict)\n",
    "\n",
    "myDict.update({'weight': 80})  # updates the value of key if key already defined \n",
    "myDict.update({'weight_in_pounds': 180.72})  # inserts new item if key is not present in the dictionary\n",
    "print(myDict)\n",
    "\n",
    "new_dict.clear() # remove all items from the dictionary\n",
    "print(new_dict)"
   ]
  },
  {
   "cell_type": "code",
   "execution_count": 4,
   "id": "12902674",
   "metadata": {},
   "outputs": [
    {
     "name": "stdout",
     "output_type": "stream",
     "text": [
      "Hello there\n",
      "Welcome\n"
     ]
    }
   ],
   "source": [
    "# functions\n",
    "\n",
    "# defining a function\n",
    "def greeting():  # to define a function we need to use def keyword follwing by function name, just like if statements the code of block in a fucntion is defined by indentation\n",
    "    print('Hello there')   # this block of code will execute whenever the function is called, functions are generally used where we need t repeat the code multiple times just to prevent repetion and lengthy code\n",
    "    print('Welcome')\n",
    "    \n",
    "    # if I run it here it will do nothing, we need to call function to execute the code block defined in function\n",
    "\n",
    "greeting()  # to call function type function name following by round brackets"
   ]
  },
  {
   "cell_type": "code",
   "execution_count": 11,
   "id": "ab3ad3d5",
   "metadata": {},
   "outputs": [
    {
     "name": "stdout",
     "output_type": "stream",
     "text": [
      "Hello Palwinder\n",
      "Welcome\n",
      "Hello Mosh\n",
      "Welcome\n",
      "Hello 2023\n",
      "Welcome\n",
      "First name: Palwinder \n",
      " Last name: Grewal\n"
     ]
    }
   ],
   "source": [
    "# parameters\n",
    "\n",
    "def greeting(name): # name is now the local variable for function greetings and the value for name will be passed/given in the function calling part\n",
    "    print(f'Hello {name}')\n",
    "    print('Welcome')\n",
    "    \n",
    "greeting('Palwinder') # here string 'Palwinder' will be assigned to variable name (parameter of function) , these are called arguments\n",
    "greeting('Mosh')  # function can be called as many times as we want and each time a different parameter can be passed.\n",
    "greeting(2023)  # any datatype can be passed in variable\n",
    "\n",
    "# NOTE:\n",
    "# if parameter is declared in function but not passed while calling it, it will throw an error and calling a function before declaring it will also result in error\n",
    "# multiple parameters can be declared in a function\n",
    "# parameters are local variables of function and cant be accessed directly outside the function (visibility of a parameter is within the function)\n",
    "\n",
    "# keyword arguments\n",
    "def names(first_name, last_name):\n",
    "    print(f'First name: {first_name} \\n Last name: {last_name}')\n",
    "\n",
    "\n",
    "names(last_name = 'Grewal', first_name = 'Palwinder')\n",
    "# these are called keyword arguments we need not to worry of their position as we do in positional arguents.\n",
    "# if we pass positional arguments in our function in different positoin like:\n",
    "# names('Grewal', 'Palwinder')\n",
    "# output will be:\n",
    "# First name : Grewal\n",
    "# Last name : Palwinder\n",
    "\n",
    "# to overcome this we can use keyword arguments\n",
    "\n",
    "# Note: positional arguments can't be be followed by keyword arguments like names(first_name = 'Palwinder', 'Grewal)  this will throw an error\n",
    "#      but keyword arguments can be followed by positional arguments."
   ]
  },
  {
   "cell_type": "code",
   "execution_count": 1,
   "id": "b53a0573",
   "metadata": {},
   "outputs": [
    {
     "name": "stdout",
     "output_type": "stream",
     "text": [
      "15\n"
     ]
    }
   ],
   "source": [
    "# return statement\n",
    "\n",
    "def add(a, b):\n",
    "    c = a + b\n",
    "    return c  # return statement returns the value while calling it\n",
    "\n",
    "\n",
    "print(add(10, 5))"
   ]
  },
  {
   "cell_type": "code",
   "execution_count": 13,
   "id": "c9526890",
   "metadata": {},
   "outputs": [
    {
     "name": "stdout",
     "output_type": "stream",
     "text": [
      "Enter message happy :) sad :( shocked :o\n",
      "happy 😊 sad 🙁 shocked 😮 \n"
     ]
    }
   ],
   "source": [
    "# exercise\n",
    "\n",
    "def emoji_creator(message):\n",
    "    words = message.split(' ')\n",
    "    emojis = {':)': '😊', ':(': '🙁', ':o':  '😮'}\n",
    "    result = ''\n",
    "    for i in words:\n",
    "        result += emojis.get(i, i) + ' '\n",
    "    return result\n",
    "\n",
    "msg = input(\"Enter message \")\n",
    "print(emoji_creator(msg))"
   ]
  },
  {
   "cell_type": "code",
   "execution_count": 1,
   "id": "bc9ec5cc",
   "metadata": {},
   "outputs": [
    {
     "name": "stdout",
     "output_type": "stream",
     "text": [
      "Enter your age: 22\n",
      "22\n",
      "Enter a number: 10\n",
      "Enter a number: 2\n",
      "5.0\n"
     ]
    }
   ],
   "source": [
    "# exceptions\n",
    "\n",
    "age = int(input(\"Enter your age: \"))  # if I enter non numeric value (example 'abcd') here it will throw ValueError.\n",
    "print(age)\n",
    "\n",
    "num1 = int(input('Enter a number: '))\n",
    "num2 = int(input('Enter a number: '))  # if I enter zero here it will give ZeroDivisionError\n",
    "divide = num1/num2\n",
    "print(divide)"
   ]
  },
  {
   "cell_type": "code",
   "execution_count": 7,
   "id": "647b7f5e",
   "metadata": {},
   "outputs": [
    {
     "name": "stdout",
     "output_type": "stream",
     "text": [
      "Enter your age: abcd\n",
      "Enter a numeric value\n",
      "Enter a number: 20\n",
      "Enter a number: 0\n",
      "Cant be divided by zero\n"
     ]
    }
   ],
   "source": [
    "# exception handling\n",
    "\n",
    "try:  # it runs the block of code and test the errors\n",
    "    age = int(input(\"Enter your age: \"))  # if I enter non numeric value (example 'abcd') here it will throw ValueError.\n",
    "    print(age)\n",
    "except ValueError:  #  except block executes if the specified error occurs instead of throwing an error in terminal\n",
    "    print('Enter a numeric value')\n",
    "try:\n",
    "    num1 = int(input('Enter a number: '))\n",
    "    num2 = int(input('Enter a number: '))  # if I enter zero here it will give ZeroDivisionError\n",
    "    divide = num1/num2\n",
    "    print(divide)\n",
    "except ValueError:\n",
    "    print('Enter a numeric value')\n",
    "except ZeroDivisionError:\n",
    "    print('Cant be divided by zero')\n",
    "else:       # if except block doesn't  triggered/executed else block will execute\n",
    "    print('No error ocuured')"
   ]
  },
  {
   "cell_type": "code",
   "execution_count": 25,
   "id": "71be979d",
   "metadata": {},
   "outputs": [
    {
     "name": "stdout",
     "output_type": "stream",
     "text": [
      "22\n",
      "PalwinderGrewal\n",
      "Pal\n",
      "Hello Pal, Welcome here\n",
      "Goodbye everyone\n"
     ]
    }
   ],
   "source": [
    "# class\n",
    "\n",
    "class Person:  # class can be defined using class keyword following by a class name\n",
    "    age = 22  # age is class level variable here\n",
    "    def __init__(self, x, y):\n",
    "        self.first_name = x  #first_name and last_name are the instance variables\n",
    "        self.last_name = y\n",
    "    def greeting(self):  # its a method of class\n",
    "        print(f'Hello {self.first_name}, Welcome here')\n",
    "    def intro(self):\n",
    "        print(f'Myself {self.first_name} and my age is {self.age}')\n",
    "    def goodbye(self):\n",
    "        print('Goodbye everyone')\n",
    "\n",
    "\n",
    "a = Person('Palwinder', 'Grewal')\n",
    "\n",
    "print(a.age)\n",
    "print(a.first_name + a.last_name)\n",
    "a.first_name = 'Pal'  # value can be updated\n",
    "print(a.first_name)\n",
    "a.greeting()\n",
    "a.goodbye()"
   ]
  },
  {
   "cell_type": "code",
   "execution_count": 5,
   "id": "91f40c45",
   "metadata": {},
   "outputs": [
    {
     "name": "stdout",
     "output_type": "stream",
     "text": [
      "Palwinder\n",
      "Hey Palwinder lets talk\n",
      "Hey Mosh lets talk\n"
     ]
    }
   ],
   "source": [
    "# exercise\n",
    "\n",
    "# create class Person with attribute name and method talk()\n",
    "\n",
    "class Person:\n",
    "    def __init__(self, n):\n",
    "        self.name = n\n",
    "    def talk(self):\n",
    "        print(f'Hey {self.name} lets talk')\n",
    "\n",
    "\n",
    "p1 = Person('Palwinder')\n",
    "print(p1.name)\n",
    "p1.talk()\n",
    "\n",
    "p2 = Person('Mosh')\n",
    "p2.talk()"
   ]
  },
  {
   "cell_type": "code",
   "execution_count": null,
   "id": "496b4b4b",
   "metadata": {},
   "outputs": [],
   "source": [
    "# code of module utils.py file placed in the same folder\n",
    "\n",
    "# def find_max(x):\n",
    "#     max_number = int()\n",
    "#     try:\n",
    "#         for i in x:\n",
    "#             if i > max_number:\n",
    "#                 max_number = i\n",
    "#     except TypeError:\n",
    "#         print(\"Pass an iterable object argument\")\n",
    "#     return max_number"
   ]
  },
  {
   "cell_type": "code",
   "execution_count": 6,
   "id": "af5585ef",
   "metadata": {},
   "outputs": [
    {
     "name": "stdout",
     "output_type": "stream",
     "text": [
      "50\n",
      "6\n"
     ]
    }
   ],
   "source": [
    "import utils  # utils is the module that I creted as utils.py\n",
    "mylist = [10, 15, 5, 20, 50, 0, 2]\n",
    "print(utils.find_max(mylist))  # find_max is function of util module to find maximum number in the list or any other iterable"
   ]
  }
 ],
 "metadata": {
  "kernelspec": {
   "display_name": "Python 3 (ipykernel)",
   "language": "python",
   "name": "python3"
  },
  "language_info": {
   "codemirror_mode": {
    "name": "ipython",
    "version": 3
   },
   "file_extension": ".py",
   "mimetype": "text/x-python",
   "name": "python",
   "nbconvert_exporter": "python",
   "pygments_lexer": "ipython3",
   "version": "3.11.1"
  }
 },
 "nbformat": 4,
 "nbformat_minor": 5
}
